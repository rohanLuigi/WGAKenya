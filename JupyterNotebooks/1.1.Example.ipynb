{
 "cells": [
  {
   "cell_type": "markdown",
   "metadata": {},
   "source": [
    "# Example of Least Squares Estimation"
   ]
  },
  {
   "cell_type": "markdown",
   "metadata": {},
   "source": [
    "## Function to simulate data for training and validation"
   ]
  },
  {
   "cell_type": "code",
   "execution_count": 3,
   "metadata": {
    "collapsed": false
   },
   "outputs": [
    {
     "data": {
      "text/plain": [
       "simDat (generic function with 1 method)"
      ]
     },
     "execution_count": 3,
     "metadata": {},
     "output_type": "execute_result"
    }
   ],
   "source": [
    "using Distributions\n",
    "function simDat(nObs,nLoci,bMean,bStd,resStd)\n",
    "    X  = [ones(nObs,1) rand(Binomial(2,0.5),(nObs,nLoci))]\n",
    "    Xv = [ones(nObs,1) rand(Binomial(2,0.5),(nObs,nLoci))] # for validation\n",
    "    b = rand(Normal(bMean,bStd),size(X,2))\n",
    "    y = X*b + rand(Normal(0.0, resStd),nObs)\n",
    "    return (y,X,Xv,b)\n",
    "end"
   ]
  },
  {
   "cell_type": "code",
   "execution_count": 41,
   "metadata": {
    "collapsed": false
   },
   "outputs": [],
   "source": [
    "nObs     = 1000\n",
    "nLoci    = 5\n",
    "bMean    = 0.0\n",
    "bStd     = 0.5\n",
    "resStd   = 1.0\n",
    "y,X,Xv,b = simDat(nObs,nLoci,bMean,bStd,resStd);"
   ]
  },
  {
   "cell_type": "markdown",
   "metadata": {},
   "source": [
    "### Using simulated data for genomic prediction"
   ]
  },
  {
   "cell_type": "code",
   "execution_count": 42,
   "metadata": {
    "collapsed": false,
    "scrolled": true
   },
   "outputs": [
    {
     "name": "stdout",
     "output_type": "stream",
     "text": [
      "heritability: 0.646035893973575\n",
      "correlations: [0.9993554008857737 0.9994346956051486]\n",
      "regressions:  [1.0034192207277033 1.0034192207277033]\n"
     ]
    }
   ],
   "source": [
    "bHat = inv(X'X)*X'y\n",
    "sel = 2:size(X,2)\n",
    "BV   = X[:,sel]*b[sel]\n",
    "EBV  = X[:,sel]*bHat[sel]\n",
    "BVv   = Xv[:,sel]*b[sel]\n",
    "EBVv  = Xv[:,sel]*bHat[sel]\n",
    "r1 = cor(BV,EBV)\n",
    "b1 = cov(BV,EBV)/var(EBV)\n",
    "b2 = cov(BV,EBV)/var(EBV)\n",
    "r2 = cor(BVv,EBVv)\n",
    "h2 = var(BV)/var(y)\n",
    "println(\"heritability: \",h2)\n",
    "println(\"correlations: \", [r1 r2])\n",
    "println(\"regressions:  \", [b1 b2])"
   ]
  }
 ],
 "metadata": {
  "celltoolbar": "Slideshow",
  "kernelspec": {
   "display_name": "Julia 0.4.3",
   "language": "julia",
   "name": "julia-0.4"
  },
  "language_info": {
   "file_extension": ".jl",
   "mimetype": "application/julia",
   "name": "julia",
   "version": "0.4.3"
  }
 },
 "nbformat": 4,
 "nbformat_minor": 0
}
