{
 "cells": [
  {
   "cell_type": "markdown",
   "metadata": {
    "slideshow": {
     "slide_type": "slide"
    }
   },
   "source": [
    "# Introduction to Markov Chain Monte-Carlo Methods\n",
    "\n",
    "## Rohan L. Fernando\n",
    "\n",
    "## February 2016"
   ]
  },
  {
   "cell_type": "markdown",
   "metadata": {},
   "source": [
    "\n",
    "\n",
    "-   Gibbs sampler is widely used for drawing samples from some distribution"
   ]
  },
  {
   "cell_type": "markdown",
   "metadata": {
    "slideshow": {
     "slide_type": "slide"
    }
   },
   "source": [
    "Gibbs Sampler\n",
    "-------------\n",
    "\n",
    "-   Want to draw samples from $f(x_{1},x_{2},\\ldots,x_{n})$\n",
    "\n",
    "-   Even though it may be possible to compute\n",
    "    $f(x_{1},x_{2},\\ldots,x_{n})$, it is often difficult to draw samples\n",
    "    directly from $f(x_{1},x_{2},\\ldots,x_{n})$\n",
    "\n",
    "-   Gibbs:\n",
    "\n",
    "    -   Get valid a starting point $\\mathbf{x}^{0}$\n",
    "\n",
    "    -   Draw sample $\\mathbf{x}^{t}$ as:\n",
    "        $$\\begin{matrix}x_{1}^{t} & \\text{from} & f(x_{1}|x_{2}^{t-1},x_{3}^{t-1},\\ldots,x_{n}^{t-1})\\\\\n",
    "        x_{2}^{t} & \\text{from} & f(x_{2}|x_{1}^{t},x_{3}^{t-1},\\ldots,x_{n}^{t-1})\\\\\n",
    "        x_{3}^{t} & \\text{from} & f(x_{3}|x_{1}^{t},x_{2}^{t},\\ldots,x_{n}^{t-1})\\\\\n",
    "        \\vdots &  & \\vdots\\\\\n",
    "        x_{n}^{t} & \\text{from} & f(x_{n}|x_{1}^{t},x_{2}^{t},\\ldots,x_{n-1}^{t})\n",
    "        \\end{matrix}$$\n",
    "\n",
    "-   The sequence\n",
    "    ${\\mathbf x}^{1},{\\mathbf x}^{2},\\ldots,{\\mathbf x}^{n}$\n",
    "    is a Markov chain with stationary distribution\n",
    "    $f(x_{1},x_{2},\\ldots,x_{n})$\n",
    "\n",
    "Making Inferences from Markov Chain\n",
    "-----------------------------------\n",
    "\n",
    "Can show that samples obtained from a <font color='red'>Markov chain</font> can be\n",
    "used to draw inferences from $f(x_{1},x_{2},\\ldots,x_{n})$ provided the\n",
    "chain is:\n",
    "\n",
    "-   <font color='red'>Irreducible</font>: can move from any state $i$ to any other\n",
    "    state $j$\n",
    "\n",
    "-   <font color='red'>Positive recurrent</font>: return time to any state has finite\n",
    "    expectation\n",
    "\n",
    "-   *Markov Chains*, J. R. Norris (1997)"
   ]
  },
  {
   "cell_type": "markdown",
   "metadata": {},
   "source": [
    "##  Bivariate Normal Example\n",
    "\n",
    "Let $f(\\mathbf{x})$ be a bivariate normal density with\n",
    "  means\n",
    "$$\n",
    "\\mu' =\n",
    "\\begin{bmatrix}\n",
    "  1 & 2\n",
    "\\end{bmatrix}\n",
    "$$\n",
    "and covariance matrix\n",
    "$$\n",
    "\\mathbf{V} =\n",
    "\\begin{bmatrix}\n",
    "  1 & 0.5\\\\\n",
    "0.5& 2.0\n",
    "\\end{bmatrix}\n",
    "$$\n",
    "\n",
    "\n",
    "Suppose we do not know how to draw samples from $f(\\mathbf{x})$, but know how\n",
    "to draw samples from $f(x_i|x_j)$, which is univariate normal with mean:\n",
    "$$\n",
    "\\mu_{i.j} = \\mu_i + \\frac{v_{ij}}{v_{jj}}(x_j - \\mu_j)\n",
    "$$\n",
    "and variance\n",
    "$$\n",
    "v_{i.j} = v_{ii} - \\frac{v^2_{ij}}{v_{jj}}\n",
    "$$"
   ]
  },
  {
   "cell_type": "code",
   "execution_count": 2,
   "metadata": {
    "collapsed": false,
    "scrolled": true
   },
   "outputs": [
    {
     "name": "stdout",
     "output_type": "stream",
     "text": [
      "      1000     0.98     1.93 \n",
      "      2000     0.99     1.96 \n",
      "      3000     0.98     1.95 \n",
      "      4000     0.99     1.95 \n",
      "      5000     0.98     1.95 \n",
      "      6000     0.99     1.96 \n",
      "      7000     0.98     1.96 \n",
      "      8000     0.98     1.96 \n",
      "      9000     0.98     1.97 \n",
      "     10000     0.98     1.97 \n",
      "     11000     0.98     1.97 \n",
      "     12000     0.98     1.98 \n",
      "     13000     0.98     1.98 \n",
      "     14000     0.98     1.98 \n",
      "     15000     0.98     1.98 \n",
      "     16000     0.98     1.98 \n",
      "     17000     0.98     1.98 \n",
      "     18000     0.98     1.98 \n",
      "     19000     0.98     1.99 \n",
      "     20000     0.98     1.98 \n"
     ]
    }
   ],
   "source": [
    "using Distributions\n",
    "nSamples = 20000\n",
    "m = [1.0; 2.0]\n",
    "v = [1.0 0.5; 0.5 2.0]\n",
    "y   = fill(0.0,2)\n",
    "save = fill(0.0,2,nSamples)\n",
    "sum = fill(0.0,2)\n",
    "s12 = sqrt(v[1,1] - v[1,2]*v[1,2]/v[2,2])\n",
    "s21 = sqrt(v[2,2] -  v[1,2]*v[1,2]/v[1,1])\n",
    "m1 = 0\n",
    "m2 = 0;\n",
    "for (iter in 1:nSamples)\n",
    "    m12 = m[1] + v[1,2]/v[2,2]*(y[2] - m[2])\n",
    "    y[1] = rand(Normal(m12,s12),1)[1]\n",
    "    m21 = m[2] + v[1,2]/v[1,1]*(y[1] - m[1])\n",
    "    y[2] = rand(Normal(m21,s21),1)[1]\n",
    "    sum += y\n",
    "    save[:,iter] = y \n",
    "    if iter%1000 == 0 \n",
    "        mean = sum/iter\n",
    "        @printf \"%10d %8.2f %8.2f \\n\" iter mean[1]  mean[2]\n",
    "    end\n",
    "end"
   ]
  },
  {
   "cell_type": "code",
   "execution_count": 3,
   "metadata": {
    "collapsed": false
   },
   "outputs": [
    {
     "data": {
      "text/plain": [
       "2x2 Array{Float64,2}:\n",
       " 0.988526  0.496471\n",
       " 0.496471  2.00116 "
      ]
     },
     "execution_count": 3,
     "metadata": {},
     "output_type": "execute_result"
    }
   ],
   "source": [
    "cov(save',)"
   ]
  },
  {
   "cell_type": "markdown",
   "metadata": {
    "slideshow": {
     "slide_type": "slide"
    }
   },
   "source": [
    "## Metropolis-Hastings Algorithm\n",
    "\n",
    "* Sometimes may not be able to draw samples directly from $f(x_i|\\mathbf{x}_{i\\_})$ \n",
    "\n",
    "* Convergence of the Gibbs sampler may be too slow\n",
    "\n",
    "* Metropolis-Hastings (MH) for sampling from $f(\\mathbf{x})$: \n",
    "\n",
    "\t"
   ]
  },
  {
   "cell_type": "markdown",
   "metadata": {
    "slideshow": {
     "slide_type": "-"
    }
   },
   "source": [
    "* a candidate sample, $y$, is drawn from a proposal distribution $q(y|x^{t-1})$\n",
    "\n",
    "\t$$\n",
    "\tx^t =  \\begin{cases}\n",
    "\t           y            &  \\text{with probability}\\, \\alpha \\\\\n",
    "               x^{t-1}     & \\text{with probability}\\, 1 - \\alpha \\\\ \n",
    "\t\t   \\end{cases}\n",
    "\t$$\n",
    "\t\n",
    "$$ \\alpha = \\min(1,\\frac{f(y)q(x^{t-1}|y)}{f(x^{t-1})q(y|x^{t-1})}) $$\n",
    " \n",
    "    \n",
    "* The samples from MH is a Markov chain with stationary distribution $f(x)$      "
   ]
  },
  {
   "cell_type": "markdown",
   "metadata": {},
   "source": [
    "## Bivariate Normal Example"
   ]
  },
  {
   "cell_type": "code",
   "execution_count": 5,
   "metadata": {
    "collapsed": false,
    "scrolled": true
   },
   "outputs": [
    {
     "name": "stdout",
     "output_type": "stream",
     "text": [
      "      1000     1.14     2.39 \n",
      "      2000     1.14     2.08 \n",
      "      3000     1.07     1.96 \n",
      "      4000     1.01     1.91 \n",
      "      5000     1.00     1.92 \n",
      "      6000     0.99     1.91 \n",
      "      7000     1.01     1.90 \n",
      "      8000     1.00     1.86 \n",
      "      9000     0.99     1.84 \n",
      "     10000     0.99     1.85 \n",
      "     11000     1.01     1.88 \n",
      "     12000     1.01     1.88 \n",
      "     13000     1.04     1.95 \n",
      "     14000     1.05     1.96 \n",
      "     15000     1.04     1.97 \n",
      "     16000     1.04     1.98 \n",
      "     17000     1.03     1.97 \n",
      "     18000     1.04     1.99 \n",
      "     19000     1.03     1.99 \n",
      "     20000     1.02     1.96 \n",
      "     21000     1.01     1.96 \n",
      "     22000     1.02     1.95 \n",
      "     23000     1.01     1.94 \n",
      "     24000     1.00     1.96 \n",
      "     25000     1.01     1.96 \n",
      "     26000     1.02     1.99 \n",
      "     27000     1.01     1.98 \n",
      "     28000     1.01     1.99 \n",
      "     29000     1.01     1.99 \n",
      "     30000     1.02     2.00 \n",
      "     31000     1.03     2.00 \n",
      "     32000     1.02     2.00 \n",
      "     33000     1.03     2.01 \n",
      "     34000     1.02     2.00 \n",
      "     35000     1.02     2.00 \n",
      "     36000     1.02     2.01 \n",
      "     37000     1.02     2.02 \n",
      "     38000     1.02     2.02 \n",
      "     39000     1.02     2.01 \n",
      "     40000     1.03     2.02 \n",
      "     41000     1.02     2.02 \n",
      "     42000     1.03     2.02 \n",
      "     43000     1.03     2.02 \n",
      "     44000     1.03     2.01 \n",
      "     45000     1.03     2.01 \n",
      "     46000     1.03     2.01 \n",
      "     47000     1.03     2.01 \n",
      "     48000     1.02     2.01 \n",
      "     49000     1.02     2.01 \n",
      "     50000     1.02     2.02 \n",
      "     51000     1.02     2.02 \n",
      "     52000     1.03     2.03 \n",
      "     53000     1.03     2.03 \n",
      "     54000     1.03     2.03 \n",
      "     55000     1.03     2.03 \n",
      "     56000     1.03     2.02 \n",
      "     57000     1.03     2.02 \n",
      "     58000     1.03     2.02 \n",
      "     59000     1.03     2.02 \n",
      "     60000     1.02     2.01 \n",
      "     61000     1.02     2.01 \n",
      "     62000     1.03     2.01 \n",
      "     63000     1.03     2.02 \n",
      "     64000     1.02     2.01 \n",
      "     65000     1.02     2.01 \n",
      "     66000     1.02     2.00 \n",
      "     67000     1.02     2.01 \n",
      "     68000     1.01     2.00 \n",
      "     69000     1.02     2.01 \n",
      "     70000     1.02     2.01 \n",
      "     71000     1.01     2.00 \n",
      "     72000     1.01     2.01 \n",
      "     73000     1.02     2.01 \n",
      "     74000     1.02     2.01 \n",
      "     75000     1.02     2.01 \n",
      "     76000     1.02     2.01 \n",
      "     77000     1.01     2.01 \n",
      "     78000     1.01     2.01 \n",
      "     79000     1.01     2.01 \n",
      "     80000     1.01     2.01 \n",
      "     81000     1.01     2.01 \n",
      "     82000     1.01     2.01 \n",
      "     83000     1.01     2.00 \n",
      "     84000     1.01     2.00 \n",
      "     85000     1.01     2.00 \n",
      "     86000     1.01     2.00 \n",
      "     87000     1.00     2.00 \n",
      "     88000     1.00     2.00 \n",
      "     89000     1.00     2.00 \n",
      "     90000     1.00     2.00 \n",
      "     91000     1.00     2.00 \n",
      "     92000     1.01     2.00 \n",
      "     93000     1.01     2.00 \n",
      "     94000     1.01     2.01 \n",
      "     95000     1.01     2.00 \n",
      "     96000     1.01     2.00 \n",
      "     97000     1.01     2.00 \n",
      "     98000     1.01     2.00 \n",
      "     99000     1.01     2.00 \n",
      "    100000     1.01     2.00 \n"
     ]
    }
   ],
   "source": [
    "nSamples = 100000\n",
    "m = [1.0, 2.0]\n",
    "v = [1.0 0.5; 0.5 2.0]\n",
    "vi = inv(v)\n",
    "y   = fill(0.0,2)\n",
    "sum = fill(0.0,2)\n",
    "\n",
    "m1 = 0\n",
    "m2 = 0\n",
    "xx = 0\n",
    "y1 = 0\n",
    "delta = 1.0\n",
    "min1 = -delta*sqrt(v[1,1])\n",
    "max1 = +delta*sqrt(v[1,1])\n",
    "min2 = -delta*sqrt(v[2,2])\n",
    "max2 = +delta*sqrt(v[2,2])\n",
    "z = y-m\n",
    "denOld = exp(-0.5*z'*vi*z)\n",
    "d1 = Uniform(min1,max1)\n",
    "d2 = Uniform(min2,max2)\n",
    "ynew = fill(0.0,2);\n",
    "for (iter in 1:nSamples)\n",
    "    ynew[1] = y[1] + rand(d1,1)[1]\n",
    "    ynew[2] = y[2] + rand(d2,1)[1]\n",
    "   denNew = exp(-0.5*(ynew-m)'*vi*(ynew-m));\n",
    "   alpha = denNew/denOld;\n",
    "    u = rand()\n",
    "    if (u < alpha[1]) \n",
    "        y = copy(ynew)\n",
    "        denOld = exp(-0.5*(y-m)'*vi*(y-m)) \n",
    "    end\n",
    "    sum += y\n",
    "    mean = sum/iter\n",
    "    if iter%1000 == 0 \n",
    "        @printf \"%10d %8.2f %8.2f \\n\" iter mean[1]  mean[2]\n",
    "    end\n",
    "end"
   ]
  },
  {
   "cell_type": "code",
   "execution_count": 40,
   "metadata": {
    "collapsed": false
   },
   "outputs": [
    {
     "data": {
      "text/plain": [
       "2x3 Array{Float64,2}:\n",
       " -0.110193  -0.714521   1.93687  \n",
       " -0.936767   1.69849   -0.0425868"
      ]
     },
     "execution_count": 40,
     "metadata": {},
     "output_type": "execute_result"
    }
   ],
   "source": [
    "randn(2,3)"
   ]
  }
 ],
 "metadata": {
  "kernelspec": {
   "display_name": "Julia 0.4.3",
   "language": "julia",
   "name": "julia-0.4"
  },
  "language_info": {
   "file_extension": ".jl",
   "mimetype": "application/julia",
   "name": "julia",
   "version": "0.4.3"
  }
 },
 "nbformat": 4,
 "nbformat_minor": 0
}
