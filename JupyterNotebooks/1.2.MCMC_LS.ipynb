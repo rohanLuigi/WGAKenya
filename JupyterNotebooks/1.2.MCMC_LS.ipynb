{
 "cells": [
  {
   "cell_type": "code",
   "execution_count": 32,
   "metadata": {
    "collapsed": false
   },
   "outputs": [
    {
     "data": {
      "text/plain": [
       "simDat (generic function with 1 method)"
      ]
     },
     "execution_count": 32,
     "metadata": {},
     "output_type": "execute_result"
    }
   ],
   "source": [
    "using Distributions\n",
    "function simDat(nObs,nLoci,bMean,bStd,resStd)\n",
    "    X  = [ones(nObs,1) rand(Binomial(2,0.5),(nObs,nLoci))]\n",
    "    Xv = [ones(nObs,1) rand(Binomial(2,0.5),(nObs,nLoci))] # for validation\n",
    "    b = rand(Normal(bMean,bStd),size(X,2))\n",
    "    y = X*b + rand(Normal(0.0, resStd),nObs)\n",
    "    return (y,X,Xv,b)\n",
    "end"
   ]
  },
  {
   "cell_type": "code",
   "execution_count": 33,
   "metadata": {
    "collapsed": true
   },
   "outputs": [],
   "source": [
    "nObs     = 1000\n",
    "nLoci    = 5\n",
    "bMean    = 0.0\n",
    "bStd     = 0.5\n",
    "resStd   = 1.0\n",
    "y,X,Xv,b = simDat(nObs,nLoci,bMean,bStd,resStd);"
   ]
  },
  {
   "cell_type": "code",
   "execution_count": 34,
   "metadata": {
    "collapsed": false
   },
   "outputs": [],
   "source": [
    " trueb=b\n",
    " k=size(b,1)\n",
    " niter=10000  # This is the length of my chain\n",
    " b=zeros(k)   # This is a vector of plausible values\n",
    " s2e=resStd^2 # This is assumed known for now\n",
    " mcmcSamples=zeros(niter,k)\n",
    " for iter in 1:niter\n",
    "    for thisParam in 1:k\n",
    "        b[thisParam]=0.0              # Zero the parameter we are about to sample\n",
    "       yadj=y-X*b                     # y is adjusted for everything but thisParam\n",
    "        xcol=X[:,thisParam]           # This is the covariate column for thisParam\n",
    "        bhat=(xcol'yadj/xcol'xcol)[1] # This is the LS solution conditioned on all the other parameters\n",
    "        bhatvar=s2e/(xcol'xcol)[1]    # This is the variance of the LS solution  \n",
    "        b[thisParam]=rand(Normal(bhat,sqrt(bhatvar)))  # Get a pluasible sample value for thisParam\n",
    "    end\n",
    "    mcmcSamples[iter,:]=b'            # Store the vector of samples for later inference\n",
    " end"
   ]
  },
  {
   "cell_type": "code",
   "execution_count": 35,
   "metadata": {
    "collapsed": false
   },
   "outputs": [],
   "source": [
    "mcmcmean=mean(mcmcSamples,1)';   # Note the need for the transpose\n",
    "mcmcvarcov=cov(mcmcSamples);\n",
    "lsmean=X'X\\X'y;\n",
    "lsvarcov=inv(X'X)*s2e;"
   ]
  },
  {
   "cell_type": "code",
   "execution_count": 36,
   "metadata": {
    "collapsed": false
   },
   "outputs": [
    {
     "data": {
      "text/plain": [
       "6x4 Array{Float64,2}:\n",
       " -0.448407   0.0115167   -0.445319   0.0122095 \n",
       " -0.352886   0.0020387   -0.353681   0.00203636\n",
       " -0.219034   0.00203034  -0.219875   0.00208432\n",
       " -0.664648   0.00199424  -0.664473   0.00208737\n",
       "  0.0831212  0.00209147   0.0828367  0.00216855\n",
       "  0.569406   0.00194582   0.568271   0.0020361 "
      ]
     },
     "execution_count": 36,
     "metadata": {},
     "output_type": "execute_result"
    }
   ],
   "source": [
    "[lsmean diag(lsvarcov) mcmcmean diag(mcmcvarcov)]  # Print out the results from MCMC and LS"
   ]
  },
  {
   "cell_type": "code",
   "execution_count": 37,
   "metadata": {
    "collapsed": false
   },
   "outputs": [],
   "source": [
    "sampleEBV=X[:,2:end]*mcmcSamples[:,2:end]'  # Compute a sample of all the BV from the samples of b\n",
    "EBV=mean(sampleEBV,2)                       # This is the posterior mean of the samples of BVs\n",
    "EBVvar=cov(sampleEBV')                      # This is the prediction error variance\n",
    "nothing"
   ]
  },
  {
   "cell_type": "code",
   "execution_count": 38,
   "metadata": {
    "collapsed": false
   },
   "outputs": [
    {
     "data": {
      "text/plain": [
       "1000x2 Array{Float64,2}:\n",
       " -0.683124    0.0242723 \n",
       " -0.857766    0.0234043 \n",
       " -0.150404    0.0150208 \n",
       " -2.03954     0.0223247 \n",
       " -1.47127     0.0249715 \n",
       " -0.101488    0.0156318 \n",
       "  1.21938     0.010067  \n",
       " -0.00528541  0.00641935\n",
       " -0.407883    0.0128111 \n",
       " -0.710594    0.0126925 \n",
       " -0.150404    0.0150208 \n",
       "  0.568271    0.0020361 \n",
       " -0.372332    0.0235937 \n",
       "  ⋮                     \n",
       " -0.803565    0.0126986 \n",
       " -0.852481    0.0125045 \n",
       "  0.201224    0.0144273 \n",
       " -0.586922    0.0110041 \n",
       " -0.81693     0.0273357 \n",
       " -0.150404    0.0150208 \n",
       "  0.28406     0.0204651 \n",
       " -0.413168    0.0275046 \n",
       "  0.34311     0.0194437 \n",
       " -1.33952     0.0366765 \n",
       "  0.197992    0.0282716 \n",
       " -1.50887     0.0150365 "
      ]
     },
     "execution_count": 38,
     "metadata": {},
     "output_type": "execute_result"
    }
   ],
   "source": [
    "[EBV diag(EBVvar)]"
   ]
  }
 ],
 "metadata": {
  "kernelspec": {
   "display_name": "Julia 0.4.3",
   "language": "julia",
   "name": "julia-0.4"
  },
  "language_info": {
   "file_extension": ".jl",
   "mimetype": "application/julia",
   "name": "julia",
   "version": "0.4.3"
  }
 },
 "nbformat": 4,
 "nbformat_minor": 0
}
