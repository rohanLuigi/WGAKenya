{
 "cells": [
  {
   "cell_type": "code",
   "execution_count": 2,
   "metadata": {
    "collapsed": false
   },
   "outputs": [
    {
     "data": {
      "text/plain": [
       "3.0"
      ]
     },
     "execution_count": 2,
     "metadata": {},
     "output_type": "execute_result"
    }
   ],
   "source": [
    "# Mixed Model Evaluation\n",
    "sigmaSqE=3;\n",
    "sigmaSqG=1;\n",
    "sigmaSqP=sigmaSqG+sigmaSqE;\n",
    "heritability=sigmaSqG/sigmaSqP;\n",
    "lambda=(1-heritability)/heritability;  # or lambda=sigmaSqE/sigmaSqG"
   ]
  },
  {
   "cell_type": "code",
   "execution_count": 3,
   "metadata": {
    "collapsed": true
   },
   "outputs": [],
   "source": [
    "# clone the Pedigree Module - only need to do this once\n",
    "#Pkg.clone(\"https://github.com/reworkhow/PedModule.jl.git\")\n",
    "using PedModule\n",
    "using Distributions\n",
    "\n",
    "# Create your own pedigree here\n",
    "pedigree = [1 0 0\n",
    "            2 0 0\n",
    "            3 0 0\n",
    "            4 1 2 \n",
    "            5 1 2 \n",
    "            6 1 3]\n",
    "\n",
    "writedlm(\"pedFile\",pedigree)   # Save the pedigree file to disk\n",
    "\n"
   ]
  },
  {
   "cell_type": "markdown",
   "metadata": {},
   "source": [
    "#Julia can execute unix commands!  Preface them with ;"
   ]
  },
  {
   "cell_type": "code",
   "execution_count": 4,
   "metadata": {
    "collapsed": false,
    "scrolled": true
   },
   "outputs": [
    {
     "name": "stdout",
     "output_type": "stream",
     "text": [
      "1. Introduction.pdf\n",
      "1. Introduction.pptx\n",
      "2. Simple_Linear_Models.pptx\n",
      "3. Pedigree BLUP.pptx\n",
      "4. Fixed Effects Models.pptx\n",
      "5. GBLUP and SIngleStep.pptx\n",
      "7. Genomics_In_Beef_Industry Brief.pptx\n",
      "7. Genomics_In_Beef_Industry.pptx\n",
      "8a Haplotypes.pptx\n",
      "8b Emre_Human_Data.pptx\n",
      "8c GenomicPredictionUpperLimits.pptx\n",
      "8d SingleStep.pptx\n",
      "Agenda.docx\n",
      "BLUPexample.jl\n",
      "GBLUP_Answers\n",
      "GBLUP_results\n",
      "GWAS_Windows.pptx\n",
      "Julia-cheatsheet.pdf\n",
      "LS_MCMC_conceptual.txt\n",
      "LinearRegressionMCMCwithUnknownResVar.jl\n",
      "LinearRegressionMCMCwithknownResVar.jl\n",
      "Math_Stat_foundations.pdf\n",
      "MonteCarlo_BVN_integration_problem.pptx\n",
      "PBLUP.ipynb\n",
      "Problem 1.docx\n",
      "Problem 1.pdf\n",
      "Problem 2.docx\n",
      "Problem 2.pdf\n",
      "Project1_BLUPexample.jl\n",
      "Project2_BLUPexample.jl\n",
      "example.jl\n",
      "interactive_MH_Gibbs.ipynb\n",
      "pedFile\n",
      "~$3. Pedigree BLUP.pptx\n"
     ]
    }
   ],
   "source": [
    ";ls"
   ]
  },
  {
   "cell_type": "code",
   "execution_count": 18,
   "metadata": {
    "collapsed": false
   },
   "outputs": [
    {
     "name": "stdout",
     "output_type": "stream",
     "text": [
      "1\t0\t0\n",
      "2\t0\t0\n",
      "3\t0\t0\n",
      "4\t1\t2\n",
      "5\t1\t2\n",
      "6\t1\t3\n"
     ]
    }
   ],
   "source": [
    ";cat pedFile"
   ]
  },
  {
   "cell_type": "code",
   "execution_count": 11,
   "metadata": {
    "collapsed": false
   },
   "outputs": [],
   "source": [
    "ped=PedModule.mkPed(\"pedFile\")\n",
    "ped.idMap\n",
    "PedModule.getIDs(ped)         # Access the reordered IDs\n",
    "Ainv=PedModule.AInverse(ped)  # Note this is a sparse matrix\n",
    "\n",
    "\n",
    "\n",
    "# full() converts a sparse matrix to a dense matrix\n",
    "# round() reduces the number of decimal places\n",
    "A=round(inv(full(Ainv)),2)\n",
    "\n",
    "numAnimals=size(Ainv,1)\n",
    "\n",
    "#Create the incidence matrices\n",
    "X=ones(numAnimals,1);\n",
    "Z=eye(numAnimals);\n",
    "numFixed=size(X,2);\n",
    "\n"
   ]
  },
  {
   "cell_type": "code",
   "execution_count": 6,
   "metadata": {
    "collapsed": false
   },
   "outputs": [
    {
     "data": {
      "text/plain": [
       "6x1 Array{Float64,2}:\n",
       "  1.63208 \n",
       "  3.03273 \n",
       "  1.60903 \n",
       "  0.16389 \n",
       " -0.20262 \n",
       "  0.755514"
      ]
     },
     "execution_count": 6,
     "metadata": {},
     "output_type": "execute_result"
    }
   ],
   "source": [
    "srand(2)      # Set the integer seed for the random number generator\n",
    "b=rand(Normal(0,sqrt(sigmaSqP)),numFixed);\n",
    "d=MvNormal(zeros(numAnimals),A*sigmaSqG)\n",
    "u=rand(d,1)\n",
    "e=rand(Normal(0.0,sqrt(sigmaSqE)),numAnimals);\n",
    "\n",
    "# Simulate data following a mixed model\n",
    "y=X*b + Z*u + e\n",
    "\n",
    "# You could make some observations randomly missing (delete rows of y, X, Z and e)\n",
    "\n"
   ]
  },
  {
   "cell_type": "code",
   "execution_count": 12,
   "metadata": {
    "collapsed": false
   },
   "outputs": [],
   "source": [
    "# Setup the left- and right-hand side of Henderson's mixed model equations\n",
    "\n",
    "\n",
    "\n",
    "\n",
    "\n",
    "\n",
    "mmeLhs=[X'X X'Z\n",
    "        Z'X (Z'Z+Ainv*lambda)]\n",
    "mmeRhs=[X'y\n",
    "        Z'y]\n",
    " \n",
    "nothing"
   ]
  },
  {
   "cell_type": "code",
   "execution_count": 8,
   "metadata": {
    "collapsed": false
   },
   "outputs": [
    {
     "data": {
      "text/plain": [
       "6-element Array{Float64,1}:\n",
       " 0.416827\n",
       " 0.437806\n",
       " 0.366332\n",
       " 0.366332\n",
       " 0.445287\n",
       " 0.373439"
      ]
     },
     "execution_count": 8,
     "metadata": {},
     "output_type": "execute_result"
    }
   ],
   "source": [
    "# Now choose among various solvers\n",
    "# Here we will use direct solution to get PEV\n",
    "# Alternatives are PCG (iterative or indirect solution)\n",
    "# MCMC (just like the code we already developed)        \n",
    "                \n",
    "mmeInv=inv(mmeLhs)\n",
    "soln=mmeInv*mmeRhs\n",
    "pev=(diag(mmeInv)*sigmaSqE)[(numFixed+1):end]\n",
    "reliability=1-pev/sigmaSqG\n",
    "accuracy=sqrt(reliability)\n",
    "\n",
    "\n",
    "# Note this may be different to sqrt(heritability) due to \n",
    "# i) chance sampling that creates covariance between u and e\n",
    "# ii) loss of information from the fixed effects \n"
   ]
  },
  {
   "cell_type": "code",
   "execution_count": 13,
   "metadata": {
    "collapsed": false
   },
   "outputs": [],
   "source": [
    "# GLS solution\n",
    "\n",
    "G=A*sigmaSqG\n",
    "R=eye(numAnimals)*sigmaSqE\n",
    "V=Z*G*Z' + R\n",
    "Vinv=inv(V)\n",
    "GLS_LHS=X'Vinv*X\n",
    "GLS_RHS=X'Vinv*y\n",
    "GLS_bhat=GLS_LHS\\GLS_RHS\n",
    "\n",
    "y_adj=y-X*GLS_bhat\n",
    "\n",
    "# BLUP via GLS\n",
    "GLS_uhat=G*Z'Vinv*(y_adj)\n",
    "nothing"
   ]
  },
  {
   "cell_type": "code",
   "execution_count": 15,
   "metadata": {
    "collapsed": false
   },
   "outputs": [
    {
     "data": {
      "text/plain": [
       "6x2 Array{Float64,2}:\n",
       " -0.00448257  -0.00448257\n",
       "  0.369457     0.369457  \n",
       "  0.220255     0.220255  \n",
       "  0.0138066    0.0138066 \n",
       " -0.364974    -0.364974  \n",
       " -0.216432    -0.216432  "
      ]
     },
     "execution_count": 15,
     "metadata": {},
     "output_type": "execute_result"
    }
   ],
   "source": [
    "[soln[(numFixed+1):end] GLS_uhat]"
   ]
  },
  {
   "cell_type": "code",
   "execution_count": 16,
   "metadata": {
    "collapsed": false
   },
   "outputs": [],
   "source": [
    "# Linear functions (ie contrasts) of BLUP\n",
    "K=[2 -1 -1 0 0 0    \n",
    "   0  1 -1 0 0 0]  # Define the linear contrast\n",
    "   \n",
    "# BLUP of the linear contrast\n",
    "BLUPlinfn=K*soln[numFixed+1:end]\n",
    "   \n",
    "# Variance of the linear constrasts\n",
    "varKu=K*G*K'\n",
    "\n",
    "# Variance of the BLUP of linear contrasts\n",
    "varKuhat=K*(G-mmeInv[numFixed+1:end,numFixed+1:end])*K'\n",
    "\n",
    "# Reliability of the linear contrasts\n",
    "relKuhat=diag(varKuhat)./diag(varKu)\n",
    "nothing"
   ]
  },
  {
   "cell_type": "code",
   "execution_count": 17,
   "metadata": {
    "collapsed": false
   },
   "outputs": [
    {
     "data": {
      "text/plain": [
       "2x6 Array{Float64,2}:\n",
       " -0.598677   5.0  -1.0   3.75949   -0.777783  0.751899\n",
       "  0.149202  -1.0   1.0  -0.777783   0.728351  0.728351"
      ]
     },
     "execution_count": 17,
     "metadata": {},
     "output_type": "execute_result"
    }
   ],
   "source": [
    "[BLUPlinfn varKu varKuhat relKuhat]"
   ]
  },
  {
   "cell_type": "code",
   "execution_count": null,
   "metadata": {
    "collapsed": true
   },
   "outputs": [],
   "source": []
  }
 ],
 "metadata": {
  "kernelspec": {
   "display_name": "Julia 0.4.3",
   "language": "julia",
   "name": "julia-0.4"
  },
  "language_info": {
   "file_extension": ".jl",
   "mimetype": "application/julia",
   "name": "julia",
   "version": "0.4.3"
  }
 },
 "nbformat": 4,
 "nbformat_minor": 0
}
